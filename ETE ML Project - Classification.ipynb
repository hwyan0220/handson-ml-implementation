{
 "cells": [
  {
   "cell_type": "markdown",
   "metadata": {},
   "source": [
    "# ETE ML Classification Project"
   ]
  },
  {
   "cell_type": "markdown",
   "metadata": {},
   "source": [
    "## 1. Getting the data"
   ]
  },
  {
   "cell_type": "markdown",
   "metadata": {},
   "source": [
    "Clearly the mnist"
   ]
  },
  {
   "cell_type": "code",
   "execution_count": 17,
   "metadata": {},
   "outputs": [
    {
     "data": {
      "text/plain": [
       "'fl'"
      ]
     },
     "execution_count": 17,
     "metadata": {},
     "output_type": "execute_result"
    }
   ],
   "source": [
    "x = 'flower'\n",
    "x[:2]"
   ]
  },
  {
   "cell_type": "code",
   "execution_count": 5,
   "metadata": {},
   "outputs": [
    {
     "name": "stdout",
     "output_type": "stream",
     "text": [
      "('.. _digits_dataset:\\n'\n",
      " '\\n'\n",
      " 'Optical recognition of handwritten digits dataset\\n'\n",
      " '--------------------------------------------------\\n'\n",
      " '\\n'\n",
      " '**Data Set Characteristics:**\\n'\n",
      " '\\n'\n",
      " '    :Number of Instances: 5620\\n'\n",
      " '    :Number of Attributes: 64\\n'\n",
      " '    :Attribute Information: 8x8 image of integer pixels in the range 0..16.\\n'\n",
      " '    :Missing Attribute Values: None\\n'\n",
      " \"    :Creator: E. Alpaydin (alpaydin '@' boun.edu.tr)\\n\"\n",
      " '    :Date: July; 1998\\n'\n",
      " '\\n'\n",
      " 'This is a copy of the test set of the UCI ML hand-written digits datasets\\n'\n",
      " 'http://archive.ics.uci.edu/ml/datasets/Optical+Recognition+of+Handwritten+Digits\\n'\n",
      " '\\n'\n",
      " 'The data set contains images of hand-written digits: 10 classes where\\n'\n",
      " 'each class refers to a digit.\\n'\n",
      " '\\n'\n",
      " 'Preprocessing programs made available by NIST were used to extract\\n'\n",
      " 'normalized bitmaps of handwritten digits from a preprinted form. From a\\n'\n",
      " 'total of 43 people, 30 contributed to the training set and different 13\\n'\n",
      " 'to the test set. 32x32 bitmaps are divided into nonoverlapping blocks of\\n'\n",
      " '4x4 and the number of on pixels are counted in each block. This generates\\n'\n",
      " 'an input matrix of 8x8 where each element is an integer in the range\\n'\n",
      " '0..16. This reduces dimensionality and gives invariance to small\\n'\n",
      " 'distortions.\\n'\n",
      " '\\n'\n",
      " 'For info on NIST preprocessing routines, see M. D. Garris, J. L. Blue, G.\\n'\n",
      " 'T. Candela, D. L. Dimmick, J. Geist, P. J. Grother, S. A. Janet, and C.\\n'\n",
      " 'L. Wilson, NIST Form-Based Handprint Recognition System, NISTIR 5469,\\n'\n",
      " '1994.\\n'\n",
      " '\\n'\n",
      " '.. topic:: References\\n'\n",
      " '\\n'\n",
      " '  - C. Kaynak (1995) Methods of Combining Multiple Classifiers and Their\\n'\n",
      " '    Applications to Handwritten Digit Recognition, MSc Thesis, Institute of\\n'\n",
      " '    Graduate Studies in Science and Engineering, Bogazici University.\\n'\n",
      " '  - E. Alpaydin, C. Kaynak (1998) Cascading Classifiers, Kybernetika.\\n'\n",
      " '  - Ken Tang and Ponnuthurai N. Suganthan and Xi Yao and A. Kai Qin.\\n'\n",
      " '    Linear dimensionalityreduction using relevance weighted LDA. School of\\n'\n",
      " '    Electrical and Electronic Engineering Nanyang Technological University.\\n'\n",
      " '    2005.\\n'\n",
      " '  - Claudio Gentile. A New Approximate Maximal Margin Classification\\n'\n",
      " '    Algorithm. NIPS. 2000.')\n"
     ]
    }
   ],
   "source": [
    "import pprint\n",
    "pprint.pprint(mnist.DESCR)"
   ]
  },
  {
   "cell_type": "code",
   "execution_count": null,
   "metadata": {},
   "outputs": [],
   "source": []
  }
 ],
 "metadata": {
  "kernelspec": {
   "display_name": "Python 3",
   "language": "python",
   "name": "python3"
  },
  "language_info": {
   "codemirror_mode": {
    "name": "ipython",
    "version": 3
   },
   "file_extension": ".py",
   "mimetype": "text/x-python",
   "name": "python",
   "nbconvert_exporter": "python",
   "pygments_lexer": "ipython3",
   "version": "3.6.7"
  }
 },
 "nbformat": 4,
 "nbformat_minor": 2
}
